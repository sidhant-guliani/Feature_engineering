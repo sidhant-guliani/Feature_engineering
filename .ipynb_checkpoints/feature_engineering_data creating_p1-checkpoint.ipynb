{
 "cells": [
  {
   "cell_type": "code",
   "execution_count": 2,
   "metadata": {},
   "outputs": [],
   "source": [
    "import numpy as np\n",
    "import pandas as pd\n",
    "\n",
    "from datetime import datetime\n",
    "import random"
   ]
  },
  {
   "cell_type": "markdown",
   "metadata": {},
   "source": [
    "####  How to create a dataset\n",
    "1. Creating random dates\n",
    "2. Creating two different datasets: one is client information, other is loan information"
   ]
  },
  {
   "cell_type": "code",
   "execution_count": 3,
   "metadata": {},
   "outputs": [],
   "source": [
    "rnd_dates = []\n",
    "\n",
    "for _ in range(1000):\n",
    "    year = random.choice(range(2000, 2015))\n",
    "    month = random.choice(range(1, 13))\n",
    "    day = random.choice(range(1, 29))\n",
    "    rdate = datetime(year, month, day)\n",
    "    rnd_dates.append(rdate)"
   ]
  },
  {
   "cell_type": "code",
   "execution_count": 4,
   "metadata": {},
   "outputs": [],
   "source": [
    "clients = pd.DataFrame(columns = ['client_id', 'joined', 'income', 'credit_score'])\n",
    "for _ in range(250):\n",
    "    clients = clients.append(pd.DataFrame({'client_id': np.random.randint(2000,5000, size=1)[0],\n",
    "                                           'joined':    random.choice(rnd_dates), \n",
    "                                           'income':    np.random.randint(35000,50000, size=1)[0], \n",
    "                                           'credit_score':np.random.randint(500, 800, size=1)[0]}, \n",
    "                                            index=[0]), ignore_index = True)"
   ]
  },
  {
   "cell_type": "code",
   "execution_count": 5,
   "metadata": {},
   "outputs": [
    {
     "data": {
      "text/html": [
       "<div>\n",
       "<style scoped>\n",
       "    .dataframe tbody tr th:only-of-type {\n",
       "        vertical-align: middle;\n",
       "    }\n",
       "\n",
       "    .dataframe tbody tr th {\n",
       "        vertical-align: top;\n",
       "    }\n",
       "\n",
       "    .dataframe thead th {\n",
       "        text-align: right;\n",
       "    }\n",
       "</style>\n",
       "<table border=\"1\" class=\"dataframe\">\n",
       "  <thead>\n",
       "    <tr style=\"text-align: right;\">\n",
       "      <th></th>\n",
       "      <th>client_id</th>\n",
       "      <th>joined</th>\n",
       "      <th>income</th>\n",
       "      <th>credit_score</th>\n",
       "    </tr>\n",
       "  </thead>\n",
       "  <tbody>\n",
       "    <tr>\n",
       "      <th>0</th>\n",
       "      <td>2697</td>\n",
       "      <td>2013-02-14</td>\n",
       "      <td>45903</td>\n",
       "      <td>507</td>\n",
       "    </tr>\n",
       "    <tr>\n",
       "      <th>1</th>\n",
       "      <td>4647</td>\n",
       "      <td>2005-06-23</td>\n",
       "      <td>47037</td>\n",
       "      <td>628</td>\n",
       "    </tr>\n",
       "    <tr>\n",
       "      <th>2</th>\n",
       "      <td>3230</td>\n",
       "      <td>2002-05-06</td>\n",
       "      <td>35246</td>\n",
       "      <td>555</td>\n",
       "    </tr>\n",
       "    <tr>\n",
       "      <th>3</th>\n",
       "      <td>3214</td>\n",
       "      <td>2006-08-26</td>\n",
       "      <td>42311</td>\n",
       "      <td>669</td>\n",
       "    </tr>\n",
       "    <tr>\n",
       "      <th>4</th>\n",
       "      <td>2265</td>\n",
       "      <td>2000-08-28</td>\n",
       "      <td>40387</td>\n",
       "      <td>679</td>\n",
       "    </tr>\n",
       "  </tbody>\n",
       "</table>\n",
       "</div>"
      ],
      "text/plain": [
       "  client_id     joined income credit_score\n",
       "0      2697 2013-02-14  45903          507\n",
       "1      4647 2005-06-23  47037          628\n",
       "2      3230 2002-05-06  35246          555\n",
       "3      3214 2006-08-26  42311          669\n",
       "4      2265 2000-08-28  40387          679"
      ]
     },
     "execution_count": 5,
     "metadata": {},
     "output_type": "execute_result"
    }
   ],
   "source": [
    "clients.head()"
   ]
  },
  {
   "cell_type": "code",
   "execution_count": null,
   "metadata": {},
   "outputs": [],
   "source": [
    "loans = pd.DataFrame(columns = ['client_id', 'loan_type', 'loan_amount', 'repaid',\n",
    "                                         'loan_id', 'loan_start', 'loan_end', 'rate'])\n",
    "\n",
    "for client in clients['client_id'].unique():\n",
    "      for _ in range(20):\n",
    "            time_created = pd.datetime(np.random.randint(2000, 2015, size = 1)[0],\n",
    "                                       np.random.randint(1, 13, size = 1)[0],\n",
    "                                       np.random.randint(1, 28, size = 1)[0])\n",
    "            # for time end adding some extra time\n",
    "            time_ended = time_created + pd.Timedelta(days = np.random.randint(500, 1000, size = 1)[0])\n",
    "\n",
    "            loans = loans.append(pd.DataFrame({'client_id': client, \n",
    "                                               'loan_type': random.choice(['cash', 'credit', 'home', 'other']),\n",
    "                                             'loan_amount': np.random.randint(500, 15000, size = 1)[0],\n",
    "                                             'repaid':      random.choice([0, 1]), \n",
    "                                             'loan_id':     np.random.randint(10000, 12000, size = 1)[0],\n",
    "                                             'loan_start':  time_created,\n",
    "                                             'loan_end':    time_ended,\n",
    "                                              'rate':       round(abs(4 * np.random.randn(1)[0]), 2)}, index = [0]), \n",
    "                                              ignore_index = True)"
   ]
  },
  {
   "cell_type": "code",
   "execution_count": null,
   "metadata": {},
   "outputs": [],
   "source": [
    "loans.head()"
   ]
  },
  {
   "cell_type": "code",
   "execution_count": null,
   "metadata": {},
   "outputs": [],
   "source": [
    "payments = pd.DataFrame(columns = ['loan_id', 'payment_amount', 'payment_date', 'missed'])\n",
    "# payments is for each loan\n",
    "for _, row in loans.iterrows():\n",
    "    time_created = row['loan_start']\n",
    "    payment_date = time_created + pd.Timedelta(days = 30) # payment due is start day + 30 days\n",
    "    loan_amount = row['loan_amount']\n",
    "    loan_id = row['loan_id']\n",
    "    payment_id = np.random.randint(10000, 12000, size = 1)[0]\n",
    "\n",
    "    for _ in range(np.random.randint(5, 10, size = 1)[0]):\n",
    "        payment_id += 1\n",
    "        payment_date += pd.Timedelta(days = np.random.randint(10, 50, size = 1)[0])\n",
    "\n",
    "        payments = payments.append(pd.DataFrame({'loan_id': loan_id, \n",
    "                                               'payment_amount': np.random.randint(int(loan_amount / 10), int(loan_amount / 5), size = 1)[0],\n",
    "                                               'payment_date': payment_date, \n",
    "                                                'missed': random.choice([0, 1])}, index = [0]), ignore_index = True)"
   ]
  },
  {
   "cell_type": "code",
   "execution_count": null,
   "metadata": {},
   "outputs": [],
   "source": [
    "payments.head()"
   ]
  },
  {
   "cell_type": "code",
   "execution_count": null,
   "metadata": {},
   "outputs": [],
   "source": [
    "clients = clients.drop_duplicates(subset = 'client_id')\n",
    "loans = loans.drop_duplicates(subset = 'loan_id')"
   ]
  },
  {
   "cell_type": "code",
   "execution_count": null,
   "metadata": {},
   "outputs": [],
   "source": [
    "clients.to_csv('clients.csv', index = False)\n",
    "loans.to_csv('loans.csv', index = False)\n",
    "payments.to_csv('payments.csv', index = False)"
   ]
  }
 ],
 "metadata": {
  "kernelspec": {
   "display_name": "Python 3",
   "language": "python",
   "name": "python3"
  },
  "language_info": {
   "codemirror_mode": {
    "name": "ipython",
    "version": 3
   },
   "file_extension": ".py",
   "mimetype": "text/x-python",
   "name": "python",
   "nbconvert_exporter": "python",
   "pygments_lexer": "ipython3",
   "version": "3.7.1"
  }
 },
 "nbformat": 4,
 "nbformat_minor": 2
}
