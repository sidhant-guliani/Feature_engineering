{
 "cells": [
  {
   "cell_type": "markdown",
   "metadata": {},
   "source": [
    "In this section we are going to deal with automated feature engineering using Featuretools. It is an opensource python library\n",
    "\n",
    "The concept of Deep Feature Synthesis is to use basic building blocks known as feature primitives (like the transformations and aggregations done above) that can be stacked on top of each other to form new features. The depth of a \"deep feature\" is equal to the number of stacked primitives.\n",
    "\n",
    "ste 1: defining entities (tables) in an EntitySet"
   ]
  },
  {
   "cell_type": "code",
   "execution_count": null,
   "metadata": {
    "scrolled": true
   },
   "outputs": [],
   "source": [
    "#! pip install featuretools"
   ]
  },
  {
   "cell_type": "code",
   "execution_count": 1,
   "metadata": {},
   "outputs": [],
   "source": [
    "import pandas as pd\n",
    "import numpy as np\n",
    "\n",
    "import featuretools as ft\n",
    "import warnings "
   ]
  },
  {
   "cell_type": "code",
   "execution_count": 2,
   "metadata": {},
   "outputs": [],
   "source": [
    "clients = pd.read_csv('clients.csv', parse_dates = ['joined'])\n",
    "loans = pd.read_csv('loans.csv', parse_dates = ['loan_start', 'loan_end'])\n",
    "payments = pd.read_csv('payments.csv', parse_dates = ['payment_date'])"
   ]
  },
  {
   "cell_type": "code",
   "execution_count": 3,
   "metadata": {},
   "outputs": [
    {
     "name": "stdout",
     "output_type": "stream",
     "text": [
      "Index(['client_id', 'joined', 'income', 'credit_score'], dtype='object')\n",
      "Index(['client_id', 'loan_type', 'loan_amount', 'repaid', 'loan_id',\n",
      "       'loan_start', 'loan_end', 'rate'],\n",
      "      dtype='object')\n",
      "Index(['loan_id', 'payment_amount', 'payment_date', 'missed'], dtype='object')\n"
     ]
    }
   ],
   "source": [
    "print(clients.columns)\n",
    "print(loans.columns)\n",
    "print(payments.columns)"
   ]
  },
  {
   "cell_type": "code",
   "execution_count": 4,
   "metadata": {},
   "outputs": [],
   "source": [
    "stats_table = loans.groupby('client_id')['loan_amount'].agg(['mean', 'max', 'min'])\n",
    "stats_table.columns = ['mean_loan_amount', 'max_loan_amount', 'min_loan_amount']"
   ]
  },
  {
   "cell_type": "code",
   "execution_count": 5,
   "metadata": {},
   "outputs": [
    {
     "data": {
      "text/html": [
       "<div>\n",
       "<style scoped>\n",
       "    .dataframe tbody tr th:only-of-type {\n",
       "        vertical-align: middle;\n",
       "    }\n",
       "\n",
       "    .dataframe tbody tr th {\n",
       "        vertical-align: top;\n",
       "    }\n",
       "\n",
       "    .dataframe thead th {\n",
       "        text-align: right;\n",
       "    }\n",
       "</style>\n",
       "<table border=\"1\" class=\"dataframe\">\n",
       "  <thead>\n",
       "    <tr style=\"text-align: right;\">\n",
       "      <th></th>\n",
       "      <th>mean_loan_amount</th>\n",
       "      <th>max_loan_amount</th>\n",
       "      <th>min_loan_amount</th>\n",
       "    </tr>\n",
       "    <tr>\n",
       "      <th>client_id</th>\n",
       "      <th></th>\n",
       "      <th></th>\n",
       "      <th></th>\n",
       "    </tr>\n",
       "  </thead>\n",
       "  <tbody>\n",
       "    <tr>\n",
       "      <th>2003</th>\n",
       "      <td>5010.666667</td>\n",
       "      <td>10314</td>\n",
       "      <td>2267</td>\n",
       "    </tr>\n",
       "    <tr>\n",
       "      <th>2004</th>\n",
       "      <td>11882.000000</td>\n",
       "      <td>12651</td>\n",
       "      <td>10464</td>\n",
       "    </tr>\n",
       "    <tr>\n",
       "      <th>2011</th>\n",
       "      <td>12006.000000</td>\n",
       "      <td>13339</td>\n",
       "      <td>9837</td>\n",
       "    </tr>\n",
       "    <tr>\n",
       "      <th>2031</th>\n",
       "      <td>7311.300000</td>\n",
       "      <td>13975</td>\n",
       "      <td>772</td>\n",
       "    </tr>\n",
       "    <tr>\n",
       "      <th>2041</th>\n",
       "      <td>7054.142857</td>\n",
       "      <td>14024</td>\n",
       "      <td>1049</td>\n",
       "    </tr>\n",
       "  </tbody>\n",
       "</table>\n",
       "</div>"
      ],
      "text/plain": [
       "           mean_loan_amount  max_loan_amount  min_loan_amount\n",
       "client_id                                                    \n",
       "2003            5010.666667            10314             2267\n",
       "2004           11882.000000            12651            10464\n",
       "2011           12006.000000            13339             9837\n",
       "2031            7311.300000            13975              772\n",
       "2041            7054.142857            14024             1049"
      ]
     },
     "execution_count": 5,
     "metadata": {},
     "output_type": "execute_result"
    }
   ],
   "source": [
    "stats_table.head()"
   ]
  },
  {
   "cell_type": "code",
   "execution_count": 6,
   "metadata": {
    "scrolled": true
   },
   "outputs": [
    {
     "name": "stdout",
     "output_type": "stream",
     "text": [
      "241\n",
      "232\n",
      "232\n"
     ]
    }
   ],
   "source": [
    "print(len(clients['client_id'].unique()))\n",
    "print(len(stats_table))\n",
    "print(len(loans['client_id'].unique()))"
   ]
  },
  {
   "cell_type": "code",
   "execution_count": 7,
   "metadata": {},
   "outputs": [
    {
     "data": {
      "text/html": [
       "<div>\n",
       "<style scoped>\n",
       "    .dataframe tbody tr th:only-of-type {\n",
       "        vertical-align: middle;\n",
       "    }\n",
       "\n",
       "    .dataframe tbody tr th {\n",
       "        vertical-align: top;\n",
       "    }\n",
       "\n",
       "    .dataframe thead th {\n",
       "        text-align: right;\n",
       "    }\n",
       "</style>\n",
       "<table border=\"1\" class=\"dataframe\">\n",
       "  <thead>\n",
       "    <tr style=\"text-align: right;\">\n",
       "      <th></th>\n",
       "      <th>client_id</th>\n",
       "      <th>joined</th>\n",
       "      <th>income</th>\n",
       "      <th>credit_score</th>\n",
       "      <th>mean_loan_amount</th>\n",
       "      <th>max_loan_amount</th>\n",
       "      <th>min_loan_amount</th>\n",
       "    </tr>\n",
       "  </thead>\n",
       "  <tbody>\n",
       "    <tr>\n",
       "      <th>0</th>\n",
       "      <td>2697</td>\n",
       "      <td>2013-02-14</td>\n",
       "      <td>45903</td>\n",
       "      <td>507</td>\n",
       "      <td>7016.600000</td>\n",
       "      <td>14927.0</td>\n",
       "      <td>1262.0</td>\n",
       "    </tr>\n",
       "    <tr>\n",
       "      <th>1</th>\n",
       "      <td>4647</td>\n",
       "      <td>2005-06-23</td>\n",
       "      <td>47037</td>\n",
       "      <td>628</td>\n",
       "      <td>7374.700000</td>\n",
       "      <td>13708.0</td>\n",
       "      <td>807.0</td>\n",
       "    </tr>\n",
       "    <tr>\n",
       "      <th>2</th>\n",
       "      <td>3230</td>\n",
       "      <td>2002-05-06</td>\n",
       "      <td>35246</td>\n",
       "      <td>555</td>\n",
       "      <td>7531.352941</td>\n",
       "      <td>14406.0</td>\n",
       "      <td>705.0</td>\n",
       "    </tr>\n",
       "    <tr>\n",
       "      <th>3</th>\n",
       "      <td>3214</td>\n",
       "      <td>2006-08-26</td>\n",
       "      <td>42311</td>\n",
       "      <td>669</td>\n",
       "      <td>6077.105263</td>\n",
       "      <td>13298.0</td>\n",
       "      <td>852.0</td>\n",
       "    </tr>\n",
       "    <tr>\n",
       "      <th>4</th>\n",
       "      <td>2265</td>\n",
       "      <td>2000-08-28</td>\n",
       "      <td>40387</td>\n",
       "      <td>679</td>\n",
       "      <td>7562.055556</td>\n",
       "      <td>14804.0</td>\n",
       "      <td>587.0</td>\n",
       "    </tr>\n",
       "    <tr>\n",
       "      <th>5</th>\n",
       "      <td>2483</td>\n",
       "      <td>2013-05-19</td>\n",
       "      <td>49188</td>\n",
       "      <td>511</td>\n",
       "      <td>5911.052632</td>\n",
       "      <td>13875.0</td>\n",
       "      <td>934.0</td>\n",
       "    </tr>\n",
       "    <tr>\n",
       "      <th>6</th>\n",
       "      <td>3092</td>\n",
       "      <td>2005-05-15</td>\n",
       "      <td>48432</td>\n",
       "      <td>766</td>\n",
       "      <td>7485.947368</td>\n",
       "      <td>14769.0</td>\n",
       "      <td>726.0</td>\n",
       "    </tr>\n",
       "    <tr>\n",
       "      <th>7</th>\n",
       "      <td>3441</td>\n",
       "      <td>2001-06-10</td>\n",
       "      <td>45021</td>\n",
       "      <td>746</td>\n",
       "      <td>8079.150000</td>\n",
       "      <td>13985.0</td>\n",
       "      <td>630.0</td>\n",
       "    </tr>\n",
       "    <tr>\n",
       "      <th>8</th>\n",
       "      <td>2489</td>\n",
       "      <td>2002-04-17</td>\n",
       "      <td>42915</td>\n",
       "      <td>655</td>\n",
       "      <td>7740.000000</td>\n",
       "      <td>14306.0</td>\n",
       "      <td>1231.0</td>\n",
       "    </tr>\n",
       "    <tr>\n",
       "      <th>9</th>\n",
       "      <td>2909</td>\n",
       "      <td>2011-07-03</td>\n",
       "      <td>49407</td>\n",
       "      <td>503</td>\n",
       "      <td>7828.666667</td>\n",
       "      <td>14574.0</td>\n",
       "      <td>1428.0</td>\n",
       "    </tr>\n",
       "  </tbody>\n",
       "</table>\n",
       "</div>"
      ],
      "text/plain": [
       "   client_id     joined  income  credit_score  mean_loan_amount  \\\n",
       "0       2697 2013-02-14   45903           507       7016.600000   \n",
       "1       4647 2005-06-23   47037           628       7374.700000   \n",
       "2       3230 2002-05-06   35246           555       7531.352941   \n",
       "3       3214 2006-08-26   42311           669       6077.105263   \n",
       "4       2265 2000-08-28   40387           679       7562.055556   \n",
       "5       2483 2013-05-19   49188           511       5911.052632   \n",
       "6       3092 2005-05-15   48432           766       7485.947368   \n",
       "7       3441 2001-06-10   45021           746       8079.150000   \n",
       "8       2489 2002-04-17   42915           655       7740.000000   \n",
       "9       2909 2011-07-03   49407           503       7828.666667   \n",
       "\n",
       "   max_loan_amount  min_loan_amount  \n",
       "0          14927.0           1262.0  \n",
       "1          13708.0            807.0  \n",
       "2          14406.0            705.0  \n",
       "3          13298.0            852.0  \n",
       "4          14804.0            587.0  \n",
       "5          13875.0            934.0  \n",
       "6          14769.0            726.0  \n",
       "7          13985.0            630.0  \n",
       "8          14306.0           1231.0  \n",
       "9          14574.0           1428.0  "
      ]
     },
     "execution_count": 7,
     "metadata": {},
     "output_type": "execute_result"
    }
   ],
   "source": [
    "clients_manual = clients.merge(stats_table, left_on = 'client_id', right_index=True, how = 'left')\n",
    "clients_manual.head(10)"
   ]
  },
  {
   "cell_type": "code",
   "execution_count": 8,
   "metadata": {},
   "outputs": [
    {
     "data": {
      "text/plain": [
       "mean_loan_amount    9\n",
       "max_loan_amount     9\n",
       "min_loan_amount     9\n",
       "dtype: int64"
      ]
     },
     "execution_count": 8,
     "metadata": {},
     "output_type": "execute_result"
    }
   ],
   "source": [
    "null_columns = clients_manual.columns[clients_manual.isnull().any()]\n",
    "clients_manual[null_columns].isnull().sum()"
   ]
  },
  {
   "cell_type": "markdown",
   "metadata": {},
   "source": [
    "creating an entity which is just a table. \n",
    "\n",
    "        1. index: Unique identifier\n",
    "        2. time_index: \n",
    "        3. make_index: True/False\n",
    "If the data also has a uniquely identifying time index, we can pass that in as the time_index parameter."
   ]
  },
  {
   "cell_type": "code",
   "execution_count": 9,
   "metadata": {},
   "outputs": [],
   "source": [
    "es = ft.EntitySet(id = 'clients')\n",
    "es = es.entity_from_dataframe(entity_id = 'clients', dataframe = clients, \n",
    "                              index = 'client_id', time_index = 'joined')"
   ]
  },
  {
   "cell_type": "code",
   "execution_count": 10,
   "metadata": {},
   "outputs": [
    {
     "data": {
      "text/plain": [
       "Index(['loan_id', 'payment_amount', 'payment_date', 'missed'], dtype='object')"
      ]
     },
     "execution_count": 10,
     "metadata": {},
     "output_type": "execute_result"
    }
   ],
   "source": [
    "payments.columns"
   ]
  },
  {
   "cell_type": "code",
   "execution_count": 11,
   "metadata": {},
   "outputs": [],
   "source": [
    "es = es.entity_from_dataframe(entity_id = 'loans', \n",
    "                              dataframe = loans, \n",
    "                              index = 'loan_id', \n",
    "                              time_index = 'loan_start')"
   ]
  },
  {
   "cell_type": "code",
   "execution_count": 12,
   "metadata": {},
   "outputs": [],
   "source": [
    "es = es.entity_from_dataframe(entity_id = 'payments', \n",
    "                              dataframe = payments,\n",
    "                              make_index = True,\n",
    "                              index = 'payment_id')"
   ]
  },
  {
   "cell_type": "code",
   "execution_count": 13,
   "metadata": {},
   "outputs": [
    {
     "data": {
      "text/plain": [
       "Entityset: clients\n",
       "  Entities:\n",
       "    clients [Rows: 241, Columns: 4]\n",
       "    loans [Rows: 1811, Columns: 8]\n",
       "    payments [Rows: 33708, Columns: 5]\n",
       "  Relationships:\n",
       "    No relationships"
      ]
     },
     "execution_count": 13,
     "metadata": {},
     "output_type": "execute_result"
    }
   ],
   "source": [
    "es"
   ]
  },
  {
   "cell_type": "code",
   "execution_count": 14,
   "metadata": {},
   "outputs": [
    {
     "data": {
      "text/plain": [
       "Entity: loans\n",
       "  Variables:\n",
       "    loan_id (dtype: index)\n",
       "    client_id (dtype: numeric)\n",
       "    loan_type (dtype: categorical)\n",
       "    loan_amount (dtype: numeric)\n",
       "    repaid (dtype: numeric)\n",
       "    loan_start (dtype: datetime_time_index)\n",
       "    loan_end (dtype: datetime)\n",
       "    rate (dtype: numeric)\n",
       "  Shape:\n",
       "    (Rows: 1811, Columns: 8)"
      ]
     },
     "execution_count": 14,
     "metadata": {},
     "output_type": "execute_result"
    }
   ],
   "source": [
    "es['loans']"
   ]
  },
  {
   "cell_type": "code",
   "execution_count": 15,
   "metadata": {},
   "outputs": [
    {
     "data": {
      "text/plain": [
       "Entity: clients\n",
       "  Variables:\n",
       "    client_id (dtype: index)\n",
       "    joined (dtype: datetime_time_index)\n",
       "    income (dtype: numeric)\n",
       "    credit_score (dtype: numeric)\n",
       "  Shape:\n",
       "    (Rows: 241, Columns: 4)"
      ]
     },
     "execution_count": 15,
     "metadata": {},
     "output_type": "execute_result"
    }
   ],
   "source": [
    "es['clients']"
   ]
  },
  {
   "cell_type": "code",
   "execution_count": 16,
   "metadata": {},
   "outputs": [
    {
     "name": "stdout",
     "output_type": "stream",
     "text": [
      "<Relationship: loans.client_id -> clients.client_id>\n"
     ]
    }
   ],
   "source": [
    "# in thsi step we are creating the relationship between client and loans\n",
    "client_previous = ft.Relationship(es['clients']['client_id'],\n",
    "                                    es['loans']['client_id'])\n",
    "\n",
    "print(client_previous)"
   ]
  },
  {
   "cell_type": "code",
   "execution_count": 17,
   "metadata": {},
   "outputs": [],
   "source": [
    "# Add the relationship to the entity set\n",
    "es = es.add_relationship(client_previous)"
   ]
  },
  {
   "cell_type": "code",
   "execution_count": 18,
   "metadata": {},
   "outputs": [
    {
     "data": {
      "text/plain": [
       "Entityset: clients\n",
       "  Entities:\n",
       "    clients [Rows: 241, Columns: 4]\n",
       "    loans [Rows: 1811, Columns: 8]\n",
       "    payments [Rows: 33708, Columns: 5]\n",
       "  Relationships:\n",
       "    loans.client_id -> clients.client_id"
      ]
     },
     "execution_count": 18,
     "metadata": {},
     "output_type": "execute_result"
    }
   ],
   "source": [
    "es"
   ]
  },
  {
   "cell_type": "code",
   "execution_count": 19,
   "metadata": {},
   "outputs": [
    {
     "data": {
      "text/plain": [
       "Entityset: clients\n",
       "  Entities:\n",
       "    clients [Rows: 241, Columns: 4]\n",
       "    loans [Rows: 1811, Columns: 8]\n",
       "    payments [Rows: 33708, Columns: 5]\n",
       "  Relationships:\n",
       "    loans.client_id -> clients.client_id\n",
       "    payments.loan_id -> loans.loan_id"
      ]
     },
     "execution_count": 19,
     "metadata": {},
     "output_type": "execute_result"
    }
   ],
   "source": [
    "payments_relation = ft.Relationship(es['loans']['loan_id'],\n",
    "                             es['payments']['loan_id'])\n",
    "es = es.add_relationship(payments_relation)\n",
    "es\n"
   ]
  },
  {
   "cell_type": "code",
   "execution_count": 22,
   "metadata": {},
   "outputs": [
    {
     "name": "stdout",
     "output_type": "stream",
     "text": [
      "Index(['client_id', 'joined', 'income', 'credit_score'], dtype='object')\n",
      "Index(['client_id', 'loan_type', 'loan_amount', 'repaid', 'loan_id',\n",
      "       'loan_start', 'loan_end', 'rate'],\n",
      "      dtype='object')\n",
      "Index(['payment_id', 'loan_id', 'payment_amount', 'payment_date', 'missed'], dtype='object')\n"
     ]
    }
   ],
   "source": [
    "print(clients.columns)\n",
    "print(loans.columns)\n",
    "print(payments.columns)"
   ]
  },
  {
   "cell_type": "code",
   "execution_count": null,
   "metadata": {},
   "outputs": [],
   "source": []
  },
  {
   "cell_type": "code",
   "execution_count": null,
   "metadata": {},
   "outputs": [],
   "source": []
  },
  {
   "cell_type": "code",
   "execution_count": null,
   "metadata": {},
   "outputs": [],
   "source": []
  }
 ],
 "metadata": {
  "kernelspec": {
   "display_name": "Python 3",
   "language": "python",
   "name": "python3"
  },
  "language_info": {
   "codemirror_mode": {
    "name": "ipython",
    "version": 3
   },
   "file_extension": ".py",
   "mimetype": "text/x-python",
   "name": "python",
   "nbconvert_exporter": "python",
   "pygments_lexer": "ipython3",
   "version": "3.7.1"
  }
 },
 "nbformat": 4,
 "nbformat_minor": 2
}
