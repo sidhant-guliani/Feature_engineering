{
 "cells": [
  {
   "cell_type": "code",
   "execution_count": 1,
   "metadata": {},
   "outputs": [],
   "source": [
    "import numpy as np\n",
    "import pandas as pd\n",
    "\n",
    "from datetime import datetime\n",
    "import random"
   ]
  },
  {
   "cell_type": "markdown",
   "metadata": {},
   "source": [
    "####  How to create a dataset\n",
    "1. Creating random dates\n",
    "2. Creating two different datasets: one is client information, other is loan information"
   ]
  },
  {
   "cell_type": "code",
   "execution_count": 3,
   "metadata": {},
   "outputs": [],
   "source": [
    "rnd_dates = []\n",
    "\n",
    "for _ in range(1000):\n",
    "    year = random.choice(range(2000, 2015))\n",
    "    month = random.choice(range(1, 13))\n",
    "    day = random.choice(range(1, 29))\n",
    "    rdate = datetime(year, month, day)\n",
    "    rnd_dates.append(rdate)"
   ]
  },
  {
   "cell_type": "code",
   "execution_count": 5,
   "metadata": {},
   "outputs": [],
   "source": [
    "clients = pd.DataFrame(columns = ['client_id', 'joined', 'income', 'credit_score'])\n",
    "for _ in range(250):\n",
    "    clients = clients.append(pd.DataFrame({'client_id': np.random.randint(2000,5000, size=1)[0],\n",
    "                                           'joined':    random.choice(rnd_dates), \n",
    "                                           'income':    np.random.randint(35000,50000, size=1)[0], \n",
    "                                           'credit_score':np.random.randint(500, 800, size=1)[0]}, \n",
    "                                            index=[0]), ignore_index = True)"
   ]
  },
  {
   "cell_type": "code",
   "execution_count": 6,
   "metadata": {},
   "outputs": [
    {
     "data": {
      "text/html": [
       "<div>\n",
       "<style scoped>\n",
       "    .dataframe tbody tr th:only-of-type {\n",
       "        vertical-align: middle;\n",
       "    }\n",
       "\n",
       "    .dataframe tbody tr th {\n",
       "        vertical-align: top;\n",
       "    }\n",
       "\n",
       "    .dataframe thead th {\n",
       "        text-align: right;\n",
       "    }\n",
       "</style>\n",
       "<table border=\"1\" class=\"dataframe\">\n",
       "  <thead>\n",
       "    <tr style=\"text-align: right;\">\n",
       "      <th></th>\n",
       "      <th>client_id</th>\n",
       "      <th>joined</th>\n",
       "      <th>income</th>\n",
       "      <th>credit_score</th>\n",
       "    </tr>\n",
       "  </thead>\n",
       "  <tbody>\n",
       "    <tr>\n",
       "      <th>0</th>\n",
       "      <td>3869</td>\n",
       "      <td>2001-08-15</td>\n",
       "      <td>45103</td>\n",
       "      <td>659</td>\n",
       "    </tr>\n",
       "    <tr>\n",
       "      <th>1</th>\n",
       "      <td>4369</td>\n",
       "      <td>2009-06-04</td>\n",
       "      <td>49170</td>\n",
       "      <td>651</td>\n",
       "    </tr>\n",
       "    <tr>\n",
       "      <th>2</th>\n",
       "      <td>3226</td>\n",
       "      <td>2000-06-10</td>\n",
       "      <td>48014</td>\n",
       "      <td>754</td>\n",
       "    </tr>\n",
       "    <tr>\n",
       "      <th>3</th>\n",
       "      <td>4287</td>\n",
       "      <td>2004-02-03</td>\n",
       "      <td>37648</td>\n",
       "      <td>699</td>\n",
       "    </tr>\n",
       "    <tr>\n",
       "      <th>4</th>\n",
       "      <td>3977</td>\n",
       "      <td>2001-12-23</td>\n",
       "      <td>37959</td>\n",
       "      <td>517</td>\n",
       "    </tr>\n",
       "  </tbody>\n",
       "</table>\n",
       "</div>"
      ],
      "text/plain": [
       "  client_id     joined income credit_score\n",
       "0      3869 2001-08-15  45103          659\n",
       "1      4369 2009-06-04  49170          651\n",
       "2      3226 2000-06-10  48014          754\n",
       "3      4287 2004-02-03  37648          699\n",
       "4      3977 2001-12-23  37959          517"
      ]
     },
     "execution_count": 6,
     "metadata": {},
     "output_type": "execute_result"
    }
   ],
   "source": [
    "clients.head()"
   ]
  },
  {
   "cell_type": "code",
   "execution_count": 10,
   "metadata": {},
   "outputs": [],
   "source": [
    "loans = pd.DataFrame(columns = ['client_id', 'loan_type', 'loan_amount', 'repaid',\n",
    "                                         'loan_id', 'loan_start', 'loan_end', 'rate'])\n",
    "\n",
    "for client in clients['client_id'].unique():\n",
    "      for _ in range(20):\n",
    "            time_created = pd.datetime(np.random.randint(2000, 2015, size = 1)[0],\n",
    "                                       np.random.randint(1, 13, size = 1)[0],\n",
    "                                       np.random.randint(1, 28, size = 1)[0])\n",
    "            # for time end adding some extra time\n",
    "            time_ended = time_created + pd.Timedelta(days = np.random.randint(500, 1000, size = 1)[0])\n",
    "\n",
    "            loans = loans.append(pd.DataFrame({'client_id': client, \n",
    "                                               'loan_type': random.choice(['cash', 'credit', 'home', 'other']),\n",
    "                                             'loan_amount': np.random.randint(500, 15000, size = 1)[0],\n",
    "                                             'repaid':      random.choice([0, 1]), \n",
    "                                             'loan_id':     np.random.randint(10000, 12000, size = 1)[0],\n",
    "                                             'loan_start':  time_created,\n",
    "                                             'loan_end':    time_ended,\n",
    "                                              'rate':       round(abs(4 * np.random.randn(1)[0]), 2)}, index = [0]), \n",
    "                                              ignore_index = True)"
   ]
  },
  {
   "cell_type": "code",
   "execution_count": 11,
   "metadata": {},
   "outputs": [
    {
     "data": {
      "text/html": [
       "<div>\n",
       "<style scoped>\n",
       "    .dataframe tbody tr th:only-of-type {\n",
       "        vertical-align: middle;\n",
       "    }\n",
       "\n",
       "    .dataframe tbody tr th {\n",
       "        vertical-align: top;\n",
       "    }\n",
       "\n",
       "    .dataframe thead th {\n",
       "        text-align: right;\n",
       "    }\n",
       "</style>\n",
       "<table border=\"1\" class=\"dataframe\">\n",
       "  <thead>\n",
       "    <tr style=\"text-align: right;\">\n",
       "      <th></th>\n",
       "      <th>client_id</th>\n",
       "      <th>loan_type</th>\n",
       "      <th>loan_amount</th>\n",
       "      <th>repaid</th>\n",
       "      <th>loan_id</th>\n",
       "      <th>loan_start</th>\n",
       "      <th>loan_end</th>\n",
       "      <th>rate</th>\n",
       "    </tr>\n",
       "  </thead>\n",
       "  <tbody>\n",
       "    <tr>\n",
       "      <th>0</th>\n",
       "      <td>3869</td>\n",
       "      <td>cash</td>\n",
       "      <td>595</td>\n",
       "      <td>0</td>\n",
       "      <td>10629</td>\n",
       "      <td>2011-07-19</td>\n",
       "      <td>2013-04-29</td>\n",
       "      <td>6.33</td>\n",
       "    </tr>\n",
       "    <tr>\n",
       "      <th>1</th>\n",
       "      <td>3869</td>\n",
       "      <td>other</td>\n",
       "      <td>6810</td>\n",
       "      <td>0</td>\n",
       "      <td>11782</td>\n",
       "      <td>2002-07-25</td>\n",
       "      <td>2004-11-27</td>\n",
       "      <td>1.58</td>\n",
       "    </tr>\n",
       "    <tr>\n",
       "      <th>2</th>\n",
       "      <td>3869</td>\n",
       "      <td>other</td>\n",
       "      <td>1316</td>\n",
       "      <td>1</td>\n",
       "      <td>11161</td>\n",
       "      <td>2011-11-04</td>\n",
       "      <td>2013-10-02</td>\n",
       "      <td>1.86</td>\n",
       "    </tr>\n",
       "    <tr>\n",
       "      <th>3</th>\n",
       "      <td>3869</td>\n",
       "      <td>home</td>\n",
       "      <td>6540</td>\n",
       "      <td>1</td>\n",
       "      <td>10533</td>\n",
       "      <td>2005-12-06</td>\n",
       "      <td>2007-06-14</td>\n",
       "      <td>3.76</td>\n",
       "    </tr>\n",
       "    <tr>\n",
       "      <th>4</th>\n",
       "      <td>3869</td>\n",
       "      <td>home</td>\n",
       "      <td>7713</td>\n",
       "      <td>0</td>\n",
       "      <td>11800</td>\n",
       "      <td>2007-12-23</td>\n",
       "      <td>2010-01-10</td>\n",
       "      <td>9.61</td>\n",
       "    </tr>\n",
       "  </tbody>\n",
       "</table>\n",
       "</div>"
      ],
      "text/plain": [
       "  client_id loan_type loan_amount repaid loan_id loan_start   loan_end  rate\n",
       "0      3869      cash         595      0   10629 2011-07-19 2013-04-29  6.33\n",
       "1      3869     other        6810      0   11782 2002-07-25 2004-11-27  1.58\n",
       "2      3869     other        1316      1   11161 2011-11-04 2013-10-02  1.86\n",
       "3      3869      home        6540      1   10533 2005-12-06 2007-06-14  3.76\n",
       "4      3869      home        7713      0   11800 2007-12-23 2010-01-10  9.61"
      ]
     },
     "execution_count": 11,
     "metadata": {},
     "output_type": "execute_result"
    }
   ],
   "source": [
    "loans.head()"
   ]
  },
  {
   "cell_type": "code",
   "execution_count": 18,
   "metadata": {},
   "outputs": [],
   "source": [
    "payments = pd.DataFrame(columns = ['loan_id', 'payment_amount', 'payment_date', 'missed'])\n",
    "# payments is for each loan\n",
    "for _, row in loans.iterrows():\n",
    "    time_created = row['loan_start']\n",
    "    payment_date = time_created + pd.Timedelta(days = 30) # payment due is start day + 30 days\n",
    "    loan_amount = row['loan_amount']\n",
    "    loan_id = row['loan_id']\n",
    "    payment_id = np.random.randint(10000, 12000, size = 1)[0]\n",
    "\n",
    "    for _ in range(np.random.randint(5, 10, size = 1)[0]):\n",
    "        payment_id += 1\n",
    "        payment_date += pd.Timedelta(days = np.random.randint(10, 50, size = 1)[0])\n",
    "\n",
    "        payments = payments.append(pd.DataFrame({'loan_id': loan_id, \n",
    "                                               'payment_amount': np.random.randint(int(loan_amount / 10), int(loan_amount / 5), size = 1)[0],\n",
    "                                               'payment_date': payment_date, \n",
    "                                                'missed': random.choice([0, 1])}, index = [0]), ignore_index = True)"
   ]
  },
  {
   "cell_type": "code",
   "execution_count": null,
   "metadata": {},
   "outputs": [],
   "source": [
    "payments.head()"
   ]
  },
  {
   "cell_type": "code",
   "execution_count": null,
   "metadata": {},
   "outputs": [],
   "source": [
    "clients = clients.drop_duplicates(subset = 'client_id')\n",
    "loans = loans.drop_duplicates(subset = 'loan_id')"
   ]
  },
  {
   "cell_type": "code",
   "execution_count": null,
   "metadata": {},
   "outputs": [],
   "source": [
    "clients.to_csv('clients.csv', index = False)\n",
    "loans.to_csv('loans.csv', index = False)\n",
    "payments.to_csv('payments.csv', index = False)"
   ]
  }
 ],
 "metadata": {
  "kernelspec": {
   "display_name": "Python 3",
   "language": "python",
   "name": "python3"
  },
  "language_info": {
   "codemirror_mode": {
    "name": "ipython",
    "version": 3
   },
   "file_extension": ".py",
   "mimetype": "text/x-python",
   "name": "python",
   "nbconvert_exporter": "python",
   "pygments_lexer": "ipython3",
   "version": "3.7.1"
  }
 },
 "nbformat": 4,
 "nbformat_minor": 2
}
